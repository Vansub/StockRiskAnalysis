{
 "cells": [
  {
   "cell_type": "code",
   "execution_count": 2,
   "metadata": {},
   "outputs": [],
   "source": [
    "import pandas as pd\n",
    "from sklearn.tree import DecisionTreeClassifier\n",
    "from sklearn.model_selection import train_test_split\n",
    "from sklearn.preprocessing import LabelEncoder\n",
    "from sklearn.metrics import accuracy_score\n",
    "import pickle\n",
    "import os"
   ]
  },
  {
   "cell_type": "code",
   "execution_count": 3,
   "metadata": {},
   "outputs": [
    {
     "data": {
      "text/html": [
       "<div>\n",
       "<style scoped>\n",
       "    .dataframe tbody tr th:only-of-type {\n",
       "        vertical-align: middle;\n",
       "    }\n",
       "\n",
       "    .dataframe tbody tr th {\n",
       "        vertical-align: top;\n",
       "    }\n",
       "\n",
       "    .dataframe thead th {\n",
       "        text-align: right;\n",
       "    }\n",
       "</style>\n",
       "<table border=\"1\" class=\"dataframe\">\n",
       "  <thead>\n",
       "    <tr style=\"text-align: right;\">\n",
       "      <th></th>\n",
       "      <th>investmentGoal</th>\n",
       "      <th>timeHorizon</th>\n",
       "      <th>riskTolerance</th>\n",
       "      <th>income</th>\n",
       "      <th>investmentExperience</th>\n",
       "      <th>lossReaction</th>\n",
       "      <th>age</th>\n",
       "    </tr>\n",
       "  </thead>\n",
       "  <tbody>\n",
       "    <tr>\n",
       "      <th>0</th>\n",
       "      <td>4</td>\n",
       "      <td>4</td>\n",
       "      <td>3</td>\n",
       "      <td>3</td>\n",
       "      <td>3</td>\n",
       "      <td>1</td>\n",
       "      <td>4</td>\n",
       "    </tr>\n",
       "    <tr>\n",
       "      <th>1</th>\n",
       "      <td>1</td>\n",
       "      <td>4</td>\n",
       "      <td>2</td>\n",
       "      <td>1</td>\n",
       "      <td>3</td>\n",
       "      <td>2</td>\n",
       "      <td>3</td>\n",
       "    </tr>\n",
       "    <tr>\n",
       "      <th>2</th>\n",
       "      <td>4</td>\n",
       "      <td>2</td>\n",
       "      <td>2</td>\n",
       "      <td>4</td>\n",
       "      <td>1</td>\n",
       "      <td>2</td>\n",
       "      <td>4</td>\n",
       "    </tr>\n",
       "    <tr>\n",
       "      <th>3</th>\n",
       "      <td>4</td>\n",
       "      <td>4</td>\n",
       "      <td>4</td>\n",
       "      <td>3</td>\n",
       "      <td>2</td>\n",
       "      <td>1</td>\n",
       "      <td>1</td>\n",
       "    </tr>\n",
       "    <tr>\n",
       "      <th>4</th>\n",
       "      <td>4</td>\n",
       "      <td>3</td>\n",
       "      <td>4</td>\n",
       "      <td>3</td>\n",
       "      <td>2</td>\n",
       "      <td>1</td>\n",
       "      <td>4</td>\n",
       "    </tr>\n",
       "  </tbody>\n",
       "</table>\n",
       "</div>"
      ],
      "text/plain": [
       "   investmentGoal  timeHorizon  riskTolerance  income  investmentExperience  \\\n",
       "0               4            4              3       3                     3   \n",
       "1               1            4              2       1                     3   \n",
       "2               4            2              2       4                     1   \n",
       "3               4            4              4       3                     2   \n",
       "4               4            3              4       3                     2   \n",
       "\n",
       "   lossReaction  age  \n",
       "0             1    4  \n",
       "1             2    3  \n",
       "2             2    4  \n",
       "3             1    1  \n",
       "4             1    4  "
      ]
     },
     "execution_count": 3,
     "metadata": {},
     "output_type": "execute_result"
    }
   ],
   "source": [
    "data = pd.read_csv(\"C://Users/Vani/Desktop/AD project- Portfolio Visualiser/MoneyPort_ML/investment_risk_assessment.csv\")\n",
    "data.head()"
   ]
  },
  {
   "cell_type": "code",
   "execution_count": 4,
   "metadata": {},
   "outputs": [],
   "source": [
    "def assign_risk_level(row):\n",
    "    score = row.sum()\n",
    "    if 7 <= score <=16:\n",
    "        return 'R1'\n",
    "    elif 17 <=  score <=24:\n",
    "        return 'R2'\n",
    "    elif 25 <= score <=32:\n",
    "        return 'R3'\n",
    "    else:\n",
    "        return 'Unknown'\n",
    "    \n",
    "data['risk_level']= data.apply(assign_risk_level, axis =1)"
   ]
  },
  {
   "cell_type": "code",
   "execution_count": 5,
   "metadata": {},
   "outputs": [
    {
     "name": "stdout",
     "output_type": "stream",
     "text": [
      "Model Accuracy:0.83\n"
     ]
    }
   ],
   "source": [
    "X = data.drop(['risk_level'], axis = 1)\n",
    "y= data['risk_level']\n",
    "\n",
    "# Encode \n",
    "le = LabelEncoder()\n",
    "y=le.fit_transform(y)\n",
    "\n",
    "#train_test_split\n",
    "X_train,X_test, y_train, y_test = train_test_split(X,y,test_size=0.2,random_state=42)\n",
    "\n",
    "#Train the model\n",
    "model= DecisionTreeClassifier(random_state=42)\n",
    "model.fit(X_train,y_train)\n",
    "\n",
    "#Evaluate the model\n",
    "y_pred = model.predict(X_test)\n",
    "accuracy = accuracy_score(y_test,y_pred)\n",
    "print(f\"Model Accuracy:{accuracy:.2f}\")\n",
    "\n",
    "models_dir = \"C:/Users/Vani/Desktop/AD project- Portfolio Visualiser/models\"\n",
    "os.makedirs(models_dir,exist_ok=True)"
   ]
  },
  {
   "cell_type": "code",
   "execution_count": 6,
   "metadata": {},
   "outputs": [
    {
     "name": "stdout",
     "output_type": "stream",
     "text": [
      "Model and label encoder saved successfully\n",
      "\n",
      " Distribution of Risk Levels:\n",
      "risk_level\n",
      "R2    0.641\n",
      "R1    0.356\n",
      "R3    0.003\n",
      "Name: proportion, dtype: float64\n"
     ]
    }
   ],
   "source": [
    "#save the model\n",
    "model_path = os.path.join(models_dir,'risk_assessment_model.pkl')\n",
    "with open(model_path ,'wb')as f:\n",
    "    pickle.dump(model,f)\n",
    "\n",
    "le_path = os.path.join(models_dir,'label_encoder.pkl')\n",
    "with open(le_path,'wb') as f:\n",
    "    pickle.dump(le,f)\n",
    "print(\"Model and label encoder saved successfully\")\n",
    "\n",
    "print(\"\\n Distribution of Risk Levels:\")\n",
    "print(data['risk_level'].value_counts(normalize=True))"
   ]
  }
 ],
 "metadata": {
  "kernelspec": {
   "display_name": "MLA Environment",
   "language": "python",
   "name": "mlaenv"
  },
  "language_info": {
   "codemirror_mode": {
    "name": "ipython",
    "version": 3
   },
   "file_extension": ".py",
   "mimetype": "text/x-python",
   "name": "python",
   "nbconvert_exporter": "python",
   "pygments_lexer": "ipython3",
   "version": "3.11.9"
  }
 },
 "nbformat": 4,
 "nbformat_minor": 2
}
