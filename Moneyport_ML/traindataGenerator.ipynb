{
 "cells": [
  {
   "cell_type": "code",
   "execution_count": 5,
   "metadata": {},
   "outputs": [
    {
     "name": "stdout",
     "output_type": "stream",
     "text": [
      "CSV file generated successfully!\n"
     ]
    }
   ],
   "source": [
    "import csv\n",
    "import random\n",
    "def generate_score():\n",
    "    return random.randint(1,4)\n",
    "questions = [\"investmentGoal\",\"timeHorizon\",\"riskTolerance\", \"income\", \"investmentExperience\", \"lossReaction\",\"age\"]\n",
    "\n",
    "num_samples = 1000\n",
    "data = []\n",
    "for i in range(num_samples):\n",
    "    sample = [generate_score() for i in questions]\n",
    "    \n",
    "    data.append(sample)\n",
    "with open(\"investment_risk_assessment.csv\", \"w\", newline=\"\") as csvfile:\n",
    "    writer = csv.writer(csvfile)\n",
    "    writer.writerow(questions)\n",
    "    writer.writerows(data)\n",
    "\n",
    "print(\"CSV file generated successfully!\")"
   ]
  }
 ],
 "metadata": {
  "kernelspec": {
   "display_name": "MLA Environment",
   "language": "python",
   "name": "mlaenv"
  },
  "language_info": {
   "codemirror_mode": {
    "name": "ipython",
    "version": 3
   },
   "file_extension": ".py",
   "mimetype": "text/x-python",
   "name": "python",
   "nbconvert_exporter": "python",
   "pygments_lexer": "ipython3",
   "version": "3.11.9"
  }
 },
 "nbformat": 4,
 "nbformat_minor": 2
}
